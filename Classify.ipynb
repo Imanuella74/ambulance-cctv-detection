{
 "cells": [
  {
   "cell_type": "code",
   "execution_count": 21,
   "id": "60edf98f",
   "metadata": {},
   "outputs": [
    {
     "name": "stdout",
     "output_type": "stream",
     "text": [
      "Collecting pytube\n",
      "  Downloading pytube-10.8.3-py3-none-any.whl (46 kB)\n",
      "\u001b[K     |████████████████████████████████| 46 kB 4.7 MB/s  eta 0:00:01\n",
      "\u001b[?25hInstalling collected packages: pytube\n",
      "Successfully installed pytube-10.8.3\n",
      "Note: you may need to restart the kernel to use updated packages.\n"
     ]
    }
   ],
   "source": [
    "pip install pytube"
   ]
  },
  {
   "cell_type": "code",
   "execution_count": 17,
   "id": "d80d2de9",
   "metadata": {},
   "outputs": [],
   "source": [
    "import tensorflow as tf\n",
    "import numpy as np\n",
    "import cv2\n",
    "import pytube\n",
    "import os\n",
    "\n",
    "from PIL import Image\n",
    "from skimage import transform"
   ]
  },
  {
   "cell_type": "code",
   "execution_count": 2,
   "id": "0109ca49",
   "metadata": {},
   "outputs": [],
   "source": [
    "#loading the model\n",
    "my_model = tf.keras.models.load_model('Model/TheATeam_model_ver2', compile=True)"
   ]
  },
  {
   "cell_type": "code",
   "execution_count": 33,
   "id": "64bf791b",
   "metadata": {},
   "outputs": [],
   "source": [
    "#Load and pre-process image frames\n",
    "def load_frames(frame):\n",
    "   frames = Image.open(frame)\n",
    "   frames = np.array(frames).astype('float32')/255\n",
    "   frames = transform.resize(frames, (224, 224, 3))\n",
    "   frames = np.expand_dims(frames, axis=0)\n",
    "   return frames"
   ]
  },
  {
   "cell_type": "code",
   "execution_count": 44,
   "id": "e07cfe27",
   "metadata": {},
   "outputs": [
    {
     "data": {
      "text/plain": [
       "'/home/jupyter/Video Frames/London Ambulance stuck in traffic !!!.mp4'"
      ]
     },
     "execution_count": 44,
     "metadata": {},
     "output_type": "execute_result"
    }
   ],
   "source": [
    "#Downloading real-world ambulance video from youtube\n",
    "url=\"https://youtu.be/bnX1JqglJ2E\"\n",
    "yt = pytube.YouTube(url)\n",
    "pytube.YouTube(url).streams.get_highest_resolution().download('Video Frames')"
   ]
  },
  {
   "cell_type": "code",
   "execution_count": 45,
   "id": "87525d5c",
   "metadata": {},
   "outputs": [],
   "source": [
    "#Renaming the video file\n",
    "path = 'Video Frames/'+yt.title+'.mp4'\n",
    "os.rename(path ,'Video Frames/testAmbulanceVideo.mp4')"
   ]
  },
  {
   "cell_type": "code",
   "execution_count": 47,
   "id": "602ce7a6",
   "metadata": {},
   "outputs": [
    {
     "name": "stdout",
     "output_type": "stream",
     "text": [
      "1) Ambulance Detected: 0.059\n",
      "2) Ambulance not detected: 0.001\n",
      "3) Ambulance Detected: 0.666\n",
      "4) Ambulance Detected: 0.441\n",
      "5) Ambulance Detected: 0.543\n",
      "6) Ambulance Detected: 0.700\n",
      "7) Ambulance not detected: 0.002\n",
      "8) Ambulance not detected: 0.006\n",
      "9) Ambulance not detected: 0.022\n",
      "10) Ambulance not detected: 0.020\n",
      "11) Ambulance Detected: 0.088\n",
      "12) Ambulance not detected: 0.015\n",
      "13) Ambulance not detected: 0.007\n",
      "14) Ambulance Detected: 0.597\n",
      "15) Ambulance Detected: 0.769\n",
      "16) Ambulance Detected: 0.039\n",
      "17) Ambulance Detected: 0.092\n",
      "18) Ambulance Detected: 0.218\n",
      "19) Ambulance Detected: 0.292\n",
      "20) Ambulance Detected: 0.170\n",
      "21) Ambulance Detected: 0.232\n",
      "22) Ambulance not detected: 0.013\n",
      "23) Ambulance Detected: 0.163\n",
      "24) Ambulance Detected: 0.189\n",
      "25) Ambulance not detected: 0.009\n",
      "26) Ambulance Detected: 0.385\n",
      "27) Ambulance Detected: 0.046\n",
      "28) Ambulance Detected: 0.368\n",
      "29) Ambulance Detected: 0.861\n",
      "30) Ambulance Detected: 0.315\n",
      "31) Ambulance not detected: 0.021\n",
      "32) Ambulance Detected: 0.059\n"
     ]
    }
   ],
   "source": [
    "#get video\n",
    "vidcap = cv2.VideoCapture('Video Frames/testAmbulanceVideo.mp4')\n",
    "\n",
    "#converting video into frame image (jpg format)\n",
    "def getFrame(sec):\n",
    "    vidcap.set(cv2.CAP_PROP_POS_MSEC,sec*1000)\n",
    "    hasFrames,image = vidcap.read()\n",
    "    if hasFrames:\n",
    "        cv2.imwrite(\"Video Frames/\"+str(count)+\"_frame.jpg\", image)     # save frame as JPG file\n",
    "        \n",
    "        image = load_frames(\"Video Frames/\"+str(count)+\"_frame.jpg\")\n",
    "        result = my_model.predict(image)\n",
    "        \n",
    "        print(str(count)+\") Ambulance Detected: {}\".format(\"%.3f\" % result[0][1]) if result[0][1]>0.03 \n",
    "              else str(count)+\") Ambulance not detected: {}\".format(\"%.3f\" % result[0][1]))\n",
    "    return hasFrames\n",
    "sec = 0\n",
    "frameRate = 5 #//it will capture image in each second\n",
    "count=1\n",
    "success = getFrame(sec)\n",
    "\n",
    "#looping the function\n",
    "while success:\n",
    "    count = count + 1\n",
    "    sec = sec + frameRate\n",
    "    sec = round(sec, 2)\n",
    "    success = getFrame(sec)"
   ]
  },
  {
   "cell_type": "code",
   "execution_count": 51,
   "id": "2fc17054",
   "metadata": {},
   "outputs": [
    {
     "name": "stdout",
     "output_type": "stream",
     "text": [
      "[4.1202511e-04 8.8441029e-02 6.2943242e-02 2.3630784e-01 6.1189586e-01]\n",
      "Ambulance not detected: 0.08844102919101715\n"
     ]
    }
   ],
   "source": [
    "#See overal result of each categories frrom a frame\n",
    "image = load_frames('Video Frames/11_frame.jpg')\n",
    "result = my_model.predict(image)\n",
    "print(result[0])\n",
    "print(\"Ambulance Detected: {}\".format(result[0][1]) if result[0][1]>0.3 else \"Ambulance not detected: {}\".format(result[0][1]))"
   ]
  },
  {
   "cell_type": "code",
   "execution_count": null,
   "id": "2be8c4ad",
   "metadata": {},
   "outputs": [],
   "source": []
  }
 ],
 "metadata": {
  "environment": {
   "name": "tf2-gpu.2-4.m69",
   "type": "gcloud",
   "uri": "gcr.io/deeplearning-platform-release/tf2-gpu.2-4:m69"
  },
  "kernelspec": {
   "display_name": "Python 3",
   "language": "python",
   "name": "python3"
  },
  "language_info": {
   "codemirror_mode": {
    "name": "ipython",
    "version": 3
   },
   "file_extension": ".py",
   "mimetype": "text/x-python",
   "name": "python",
   "nbconvert_exporter": "python",
   "pygments_lexer": "ipython3",
   "version": "3.7.10"
  }
 },
 "nbformat": 4,
 "nbformat_minor": 5
}
